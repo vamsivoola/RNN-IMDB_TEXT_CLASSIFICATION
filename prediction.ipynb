{
 "cells": [
  {
   "cell_type": "code",
   "execution_count": 1,
   "metadata": {},
   "outputs": [],
   "source": [
    "import numpy as np\n",
    "import tensorflow as tf\n",
    "from tensorflow.keras.datasets import imdb\n",
    "from tensorflow.keras.preprocessing import sequence\n",
    "from tensorflow.keras.models import load_model\n",
    "import re\n",
    "VOCAB_SIZE = 10000\n"
   ]
  },
  {
   "cell_type": "code",
   "execution_count": 2,
   "metadata": {},
   "outputs": [],
   "source": [
    "#Load the imdb dataset word index\n",
    "word_to_index = imdb.get_word_index() # Returns all the word to index dict of vocab\n",
    "\n",
    "index_to_word = {index+3:word for word,index in word_to_index.items()} #Reversing the word to index - index to word\n"
   ]
  },
  {
   "cell_type": "code",
   "execution_count": null,
   "metadata": {},
   "outputs": [],
   "source": [
    "# Load Model file\n",
    "\n",
    "model = load_model('rnn_imdb.h5')\n",
    "model.compile(optimizer='adam', \n",
    "             loss='binary_crossentropy', \n",
    "             metrics=['accuracy'])\n",
    "model.summary()"
   ]
  },
  {
   "cell_type": "code",
   "execution_count": 4,
   "metadata": {},
   "outputs": [],
   "source": [
    "# Helper functions\n",
    "#Function to decode the review\n",
    "def decode_review(encoded_review):\n",
    "    \"\"\"\n",
    "    Decodes a review from the IMDB dataset using index_to_word mapping.\n",
    "\n",
    "    Args:\n",
    "        review_index (int): The index of the review in encoded_review to decode. Defaults to 0.\n",
    "\n",
    "    Returns:\n",
    "        str: The decoded review as a string of words.\n",
    "    \"\"\"\n",
    "    return \" \".join(index_to_word.get(index, '<UNK>') for index in encoded_review)\n",
    "\n",
    "#Function to preprocess user input\n",
    "\n",
    "def preprocess_text(text, max_length=500):\n",
    "    \"\"\"\n",
    "    Preprocesses the user input text, encoding it into indices and padding it to the expected input length.\n",
    "\n",
    "    Args:\n",
    "        text (str): The raw text input from the user.\n",
    "        max_length (int): The maximum length of the input sequence.\n",
    "\n",
    "    Returns:\n",
    "        np.array: A numpy array containing the encoded and padded review.\n",
    "    \"\"\"\n",
    "\n",
    "     # Clean the text\n",
    "    text = text.lower()\n",
    "    text = re.sub(r'[^\\w\\s]', ' ', text)  # Remove punctuation\n",
    "    text = re.sub(r'\\s+', ' ', text).strip()  # Remove extra whitespace\n",
    "    \n",
    "    words = text.lower().split()\n",
    "\n",
    "     # Convert words to indices with vocabulary size limit\n",
    "    encoded_review = []\n",
    "    for word in words:\n",
    "        idx = word_to_index.get(word, 2)  # Default to <UNK> token\n",
    "        if idx + 3 >= VOCAB_SIZE:  # Check if index exceeds vocab size\n",
    "            idx = 2  # Use <UNK> for words outside vocab size\n",
    "        encoded_review.append(idx + 3)\n",
    "   \n",
    "    #encoded_review = [word_to_index.get(word, 2)+3 for word in words]  # Convert words to indices, using 2 for <UNK>\n",
    "    \n",
    "    # Padding the sequence to ensure consistent input length\n",
    "    padded_review = sequence.pad_sequences([encoded_review],maxlen=max_length)\n",
    "\n",
    "    return padded_review"
   ]
  },
  {
   "cell_type": "code",
   "execution_count": 5,
   "metadata": {},
   "outputs": [],
   "source": [
    "#Prediction function\n",
    "\n",
    "def predict_sentiment(review):\n",
    "    preprocessed_input=preprocess_text(review)\n",
    "    prediction = model.predict(preprocessed_input)\n",
    "\n",
    "    sentiment ='Positive' if prediction[0][0]>0.5 else 'Negative'\n",
    "    return sentiment, prediction[0][0]"
   ]
  },
  {
   "cell_type": "code",
   "execution_count": null,
   "metadata": {},
   "outputs": [],
   "source": [
    "# User input and prediction\n",
    "\n",
    "example_review = \"Interstellar is one of the best movies that I have watched in the past decade.\"\n",
    "\n",
    "result = predict_sentiment(example_review)\n",
    "\n",
    "print(result)"
   ]
  },
  {
   "cell_type": "code",
   "execution_count": null,
   "metadata": {},
   "outputs": [],
   "source": []
  }
 ],
 "metadata": {
  "kernelspec": {
   "display_name": "Python 3",
   "language": "python",
   "name": "python3"
  },
  "language_info": {
   "codemirror_mode": {
    "name": "ipython",
    "version": 3
   },
   "file_extension": ".py",
   "mimetype": "text/x-python",
   "name": "python",
   "nbconvert_exporter": "python",
   "pygments_lexer": "ipython3",
   "version": "3.12.8"
  }
 },
 "nbformat": 4,
 "nbformat_minor": 2
}
